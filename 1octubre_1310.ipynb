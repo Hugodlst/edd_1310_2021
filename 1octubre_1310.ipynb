{
  "nbformat": 4,
  "nbformat_minor": 0,
  "metadata": {
    "colab": {
      "name": "1octubre_1310.ipynb",
      "provenance": [],
      "authorship_tag": "ABX9TyOhwDhq8MjF0iUqTIZKLSX4",
      "include_colab_link": true
    },
    "kernelspec": {
      "name": "python3",
      "display_name": "Python 3"
    }
  },
  "cells": [
    {
      "cell_type": "markdown",
      "metadata": {
        "id": "view-in-github",
        "colab_type": "text"
      },
      "source": [
        "<a href=\"https://colab.research.google.com/github/Hugodlst/edd_1310_2021/blob/master/1octubre_1310.ipynb\" target=\"_parent\"><img src=\"https://colab.research.google.com/assets/colab-badge.svg\" alt=\"Open In Colab\"/></a>"
      ]
    },
    {
      "cell_type": "code",
      "metadata": {
        "id": "GI8coH-A7csL"
      },
      "source": [
        ""
      ],
      "execution_count": null,
      "outputs": []
    },
    {
      "cell_type": "markdown",
      "metadata": {
        "id": "i7vAqQa48FDo"
      },
      "source": [
        "#Intro Python 3\n",
        "\n",
        "##Variables\n",
        "\n",
        "tipo dinamico\n",
        "\n",
        "escuela =\"FES Aragon\""
      ]
    },
    {
      "cell_type": "code",
      "metadata": {
        "id": "-Vjjf2Rw8an0",
        "outputId": "33ad4716-3e2f-47e3-d420-a58c463056cc",
        "colab": {
          "base_uri": "https://localhost:8080/",
          "height": 170
        }
      },
      "source": [
        "\n",
        "\n",
        "escuela = \"Fes Aragon\"\n",
        "print(escuela)\n",
        "print(\"--------------\")\n",
        "edad=13\n",
        "estatura=1.67\n",
        "fumador = True\n",
        "frase=\"\"\"\n",
        "Esta es una frase\n",
        "de\n",
        "multiples lineas\n",
        "y tambien\n",
        "es un tipo de\n",
        "datos\"\"\"\n",
        "print(frase)\n",
        "\n",
        "nombre='jose'\n",
        "nombre_completo=\"jose cardenas\""
      ],
      "execution_count": 15,
      "outputs": [
        {
          "output_type": "stream",
          "text": [
            "Fes Aragon\n",
            "--------------\n",
            "\n",
            "Esta es una frase\n",
            "de\n",
            "multiples lineas\n",
            "y tambien\n",
            "es un tipo de\n",
            "datos\n"
          ],
          "name": "stdout"
        }
      ]
    },
    {
      "cell_type": "code",
      "metadata": {
        "id": "GCC_Kcew-8vi",
        "outputId": "96b0e4f9-e918-4c6a-b4b8-72ba88f89c1e",
        "colab": {
          "base_uri": "https://localhost:8080/",
          "height": 51
        }
      },
      "source": [
        "# + concatena\n",
        "print(nombre + str(edad))\n",
        "print(nombre + nombre_completo)"
      ],
      "execution_count": 16,
      "outputs": [
        {
          "output_type": "stream",
          "text": [
            "jose13\n",
            "josejose cardenas\n"
          ],
          "name": "stdout"
        }
      ]
    },
    {
      "cell_type": "code",
      "metadata": {
        "id": "8a67P6GaAnEd",
        "outputId": "506ca2c6-a8a9-4686-9daf-54db9354244a",
        "colab": {
          "base_uri": "https://localhost:8080/",
          "height": 68
        }
      },
      "source": [
        "#con formato , --> Su nombre es Jose y sus edad es de 13 años\n",
        "print(\"Su nombre es\",nombre,\"y su edad es de\",edad, \"años.\")\n",
        "print(\"Su nombre es {0} y su edad es de {1} años.\".format(nombre,edad)) \n",
        "print(\"Su nombre es {1} y su edad es de {0} años.\".format(nombre,edad)) "
      ],
      "execution_count": 33,
      "outputs": [
        {
          "output_type": "stream",
          "text": [
            "Su nombre es jose y su edad es de 13 años.\n",
            "Su nombre es jose y su edad es de 13 años.\n",
            "Su nombre es 13 y su edad es de jose años.\n"
          ],
          "name": "stdout"
        }
      ]
    },
    {
      "cell_type": "markdown",
      "metadata": {
        "id": "47Elz3DPDZKS"
      },
      "source": [
        ""
      ]
    },
    {
      "cell_type": "code",
      "metadata": {
        "id": "i-2cYvoXB0rg",
        "outputId": "0fe03f67-5e18-4c60-b73c-0d203884e3d0",
        "colab": {
          "base_uri": "https://localhost:8080/",
          "height": 34
        }
      },
      "source": [
        "#con formato con el operador f\"\"\n",
        "print(f\"Su nombre es{nombre} y sus edad es de {edad} años.\")"
      ],
      "execution_count": 24,
      "outputs": [
        {
          "output_type": "stream",
          "text": [
            "Su nombre esjose y sus edad es de 13 años.\n"
          ],
          "name": "stdout"
        }
      ]
    },
    {
      "cell_type": "markdown",
      "metadata": {
        "id": "2ce35iMj96Wx"
      },
      "source": [
        "#Print\n",
        "\n",
        "con comas ,\n",
        "con signo de mas +\n",
        "con format()\n",
        "con el operador f\"\n"
      ]
    },
    {
      "cell_type": "markdown",
      "metadata": {
        "id": "YmsXg1MxDdAb"
      },
      "source": [
        "#Ayuda de tipos de datos en Python\n",
        "dir()\n",
        "help()\n"
      ]
    },
    {
      "cell_type": "code",
      "metadata": {
        "id": "XaiXmLukEaxT"
      },
      "source": [
        "# str, int, float, bool ... list, dict, set\n",
        "help(str)"
      ],
      "execution_count": null,
      "outputs": []
    },
    {
      "cell_type": "code",
      "metadata": {
        "id": "RrDVFnYUFN1D",
        "outputId": "6a1f4e75-6988-4600-ee55-c5f404536bb4",
        "colab": {
          "base_uri": "https://localhost:8080/",
          "height": 51
        }
      },
      "source": [
        "print(nombre_completo.capitalize())\n",
        "\n",
        "print(nombre_completo.upper() , end=\"----\" )\n",
        "print(nombre_completo.title())"
      ],
      "execution_count": 32,
      "outputs": [
        {
          "output_type": "stream",
          "text": [
            "Jose cardenas\n",
            "JOSE CARDENAS----Jose Cardenas\n"
          ],
          "name": "stdout"
        }
      ]
    },
    {
      "cell_type": "markdown",
      "metadata": {
        "id": "fRJ5VpzzHDfz"
      },
      "source": [
        "#Clase String\n",
        "\n",
        "Es manejado como arreglo (c o java) o lista (en python)\n",
        "\n",
        "telefono = \"Huawei Mate 30 pro\"\n",
        "print(telefono[0])"
      ]
    },
    {
      "cell_type": "code",
      "metadata": {
        "id": "EC__hQklHNd-",
        "outputId": "15a7cf7d-327c-4e80-8fb2-c674cd07ed63",
        "colab": {
          "base_uri": "https://localhost:8080/",
          "height": 34
        }
      },
      "source": [
        "telefono = \"Huawei Mate 30 pro\"\n",
        "print(telefono[5])\n"
      ],
      "execution_count": 34,
      "outputs": [
        {
          "output_type": "stream",
          "text": [
            "i\n"
          ],
          "name": "stdout"
        }
      ]
    },
    {
      "cell_type": "markdown",
      "metadata": {
        "id": "JWlOpcwpILym"
      },
      "source": [
        "#Slicing(rebado)\n",
        "\n",
        "[inicio : stop : incremento]\n",
        "nota: el stop no se incluye, termina en el valor anterior stop"
      ]
    },
    {
      "cell_type": "code",
      "metadata": {
        "id": "5htAQiCdIg2F",
        "outputId": "fcced01e-0776-4d9f-8095-c996873890dd",
        "colab": {
          "base_uri": "https://localhost:8080/",
          "height": 119
        }
      },
      "source": [
        "print(telefono[7:11:1])\n",
        "#el inicio y el inceremento son opcionales \n",
        "print(telefono[:11:])\n",
        "#El valor por defecto de stop es len(str)\n",
        "print(telefono[::])\n",
        "#Incremento Negativo\n",
        "print(telefono[::-1])\n",
        "#\n",
        "print(telefono[-3::1])\n",
        "#Slacing negativo\n",
        "ini=-3\n",
        "inc=1\n",
        "print(telefono[ini::inc])"
      ],
      "execution_count": 39,
      "outputs": [
        {
          "output_type": "stream",
          "text": [
            "Mate\n",
            "Huawei Mate\n",
            "Huawei Mate 30 pro\n",
            "orp 03 etaM iewauH\n",
            "pro\n",
            "pro\n"
          ],
          "name": "stdout"
        }
      ]
    },
    {
      "cell_type": "markdown",
      "metadata": {
        "id": "ajhPctu1NMfq"
      },
      "source": [
        "#Métodos de String (str)\n",
        "Existenmétodos muy útiles en esta clase"
      ]
    },
    {
      "cell_type": "code",
      "metadata": {
        "id": "FmuphwZKNakW",
        "outputId": "bafcf497-eba1-4df9-d709-5c61f3b5c30a",
        "colab": {
          "base_uri": "https://localhost:8080/",
          "height": 374
        }
      },
      "source": [
        "facultad=\"    facultad de estudios superiores aragon      \\n\"\n",
        "print(facultad)\n",
        "print(facultad.count(\"u\"))#Cuenta numero de elementos en la cadena\n",
        "print(facultad.find(\"s\"))#Encuentra la primera la coicidencia\n",
        "print(facultad.strip())#Remueve los espacios en blanco, quita los saltos de linea\n",
        "tamaño=len(facultad)\n",
        "print(len(facultad))#Cuenta el numero de elementos (osea la longuitud del string)\n",
        "print(f\"tamaño de la cadena es {tamaño} caracteres\")\n",
        "print(facultad)\n",
        "print(facultad.split(\"t\"))#Es divisionde la palabra a partir de la letra que el usuario señale\n",
        "print(facultad.strip().split(\" \"))\n",
        "\n",
        "print(\"-----------------\")\n",
        "#copiar cadenas\n",
        "otra_cadena=facultad\n",
        "print(otra_cadena)\n",
        "facultad=\"FES Aragón\"\n",
        "print(facultad)\n",
        "print(otra_cadena)\n",
        "\n",
        "#copiar Listas\n",
        "colores=[\"rojo\",\"verde\"]\n",
        "otra=colores\n",
        "print(colores)\n",
        "print(otra)\n",
        "otra.append(\"rosa\")\n",
        "print(colores)\n",
        "print(otra)"
      ],
      "execution_count": 62,
      "outputs": [
        {
          "output_type": "stream",
          "text": [
            "    facultad de estudios superiores aragon      \n",
            "\n",
            "3\n",
            "17\n",
            "facultad de estudios superiores aragon\n",
            "49\n",
            "tamaño de la cadena es 49 caracteres\n",
            "    facultad de estudios superiores aragon      \n",
            "\n",
            "['    facul', 'ad de es', 'udios superiores aragon      \\n']\n",
            "['facultad', 'de', 'estudios', 'superiores', 'aragon']\n",
            "-----------------\n",
            "    facultad de estudios superiores aragon      \n",
            "\n",
            "FES Aragón\n",
            "    facultad de estudios superiores aragon      \n",
            "\n",
            "['rojo', 'verde']\n",
            "['rojo', 'verde']\n",
            "['rojo', 'verde', 'rosa']\n",
            "['rojo', 'verde', 'rosa']\n"
          ],
          "name": "stdout"
        }
      ]
    }
  ]
}