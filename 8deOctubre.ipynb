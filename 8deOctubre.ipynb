{
  "nbformat": 4,
  "nbformat_minor": 0,
  "metadata": {
    "colab": {
      "name": "8deOctubre.ipynb",
      "provenance": [],
      "authorship_tag": "ABX9TyMOJYuJUCFhHxi+1gidD+AC",
      "include_colab_link": true
    },
    "kernelspec": {
      "name": "python3",
      "display_name": "Python 3"
    }
  },
  "cells": [
    {
      "cell_type": "markdown",
      "metadata": {
        "id": "view-in-github",
        "colab_type": "text"
      },
      "source": [
        "<a href=\"https://colab.research.google.com/github/Hugodlst/edd_1310_2021/blob/master/8deOctubre.ipynb\" target=\"_parent\"><img src=\"https://colab.research.google.com/assets/colab-badge.svg\" alt=\"Open In Colab\"/></a>"
      ]
    },
    {
      "cell_type": "code",
      "metadata": {
        "id": "8AWusOgp9x3G",
        "outputId": "fcfa5a4c-896f-4f32-f179-ef9de5aa3150",
        "colab": {
          "base_uri": "https://localhost:8080/",
          "height": 119
        }
      },
      "source": [
        "#Listas muldimensión\n",
        "\n",
        "monitores =[[\"Samsung\",\"17.3 \\\"\",1024],[\"BenQ\",\"40\\\"\",2048]]\n",
        "procesadores = [[\"Intel\",\"i7\",3.4],[\"AMD\",\"razzer\",3.3],[\"Intel\",\"i3\",3.1]]\n",
        "memorias = [[\"Kingston\", \"8GB\",\"DDR4\"],[\"Kingston\", \"16GB\",\"DDR3\"],[\"ADATA\", \"32GB\",\"DDR4\"]]\n",
        "\n",
        "componentes = [monitores,procesadores,memorias]\n",
        "               \n",
        "print(componentes[1])\n",
        "print(componentes[2][1][1])\n",
        "print(int(componentes[0][1][2])*2)\n",
        "print(componentes[1][1][1][1:4])\n",
        "#ADATA en minuscula \"adata\"\n",
        "print(componentes[2][2][0].lower())\n",
        "componentes[2].append([\"Patito\", \"32 GB\",\"DDR4\"])\n",
        "print(componentes[2])\n"
      ],
      "execution_count": 27,
      "outputs": [
        {
          "output_type": "stream",
          "text": [
            "[['Intel', 'i7', 3.4], ['AMD', 'razzer', 3.3], ['Intel', 'i3', 3.1]]\n",
            "16GB\n",
            "4096\n",
            "azz\n",
            "adata\n",
            "[['Kingston', '8GB', 'DDR4'], ['Kingston', '16GB', 'DDR3'], ['ADATA', '32GB', 'DDR4'], ['Patito', '32 GB', 'DDR4']]\n"
          ],
          "name": "stdout"
        }
      ]
    },
    {
      "cell_type": "code",
      "metadata": {
        "id": "05-vYlLDH2Gh",
        "outputId": "ec7b118e-7804-4d8f-d848-2631ce2bd5a0",
        "colab": {
          "base_uri": "https://localhost:8080/",
          "height": 187
        }
      },
      "source": [
        "#Extender listas\n",
        "\n",
        "frutas=[\"manzana\",\"pera\"]\n",
        "otras_frutas=[\"aguacate\",\"sandia\"]\n",
        "\n",
        "# + sobre listas\n",
        "#frutas = frutas + otras_frutas\n",
        "print(frutas)\n",
        "\n",
        "# funcion extend()\n",
        "frutas.extend(otras_frutas)\n",
        "\n",
        "\n",
        "#frutas.append(otras_frutas)\n",
        "print(frutas)\n",
        "\n",
        "\n",
        "\n",
        "\n",
        "#Copiar Listas\n",
        "\n",
        "colores=[\"azul\",\"rojo\",\"verde\",\"violeta\"]\n",
        "otros_colores = colores\n",
        "\n",
        "print(colores)\n",
        "print(otros_colores)\n",
        "\n",
        "otros_colores.append(\"Rosa\")\n",
        "print(colores)\n",
        "print(otros_colores)\n",
        "\n",
        "una_mas=colores.copy()\n",
        "print(una_mas)\n",
        "una_mas.append(\"gris\")\n",
        "print(una_mas)\n",
        "print(colores)\n",
        "\n",
        "\n",
        "\n",
        "#unpaking de listas\n",
        "\n",
        "alumno=[\"Jesus\",\"Perez\",\"Herrera\",22,\"ICO\",10.0]\n",
        "#nombre=alumno[0]\n",
        "#paterno=alumno[1]\n",
        "#etc\n",
        "\n",
        "nombre,paterno,materno,edad,carrera,promedio=alumno\n",
        "print(f\"Alumno:{nombre} Carrera:{carrera} Promedio={promedio}\")\n"
      ],
      "execution_count": 40,
      "outputs": [
        {
          "output_type": "stream",
          "text": [
            "['manzana', 'pera']\n",
            "['manzana', 'pera', 'aguacate', 'sandia']\n",
            "['azul', 'rojo', 'verde', 'violeta']\n",
            "['azul', 'rojo', 'verde', 'violeta']\n",
            "['azul', 'rojo', 'verde', 'violeta', 'Rosa']\n",
            "['azul', 'rojo', 'verde', 'violeta', 'Rosa']\n",
            "['azul', 'rojo', 'verde', 'violeta', 'Rosa']\n",
            "['azul', 'rojo', 'verde', 'violeta', 'Rosa', 'gris']\n",
            "['azul', 'rojo', 'verde', 'violeta', 'Rosa']\n",
            "Alumno:Jesus Carrera:ICO Promedio=10.0\n"
          ],
          "name": "stdout"
        }
      ]
    },
    {
      "cell_type": "markdown",
      "metadata": {
        "id": "p31x1tU1R5uL"
      },
      "source": [
        "#Tuplas\n",
        "\n",
        "- Se declaran con (  )\n",
        "- Selector es igual que con las lista [  ]\n",
        "- No son mutables, osea no se pueden modificar\n",
        "- Sirven para consultar\n"
      ]
    },
    {
      "cell_type": "code",
      "metadata": {
        "id": "CuaWiEBFR4P6",
        "outputId": "e8bf489d-03b7-4103-f4b6-d960badfc17b",
        "colab": {
          "base_uri": "https://localhost:8080/",
          "height": 68
        }
      },
      "source": [
        "precios=(99.9 , 49.90 , 12.45 , 23.3 , 55.66 , 11.456)\n",
        "print(precios[1])\n",
        "\n",
        "#precios[1]=50.0 EROOR 'tuple' object does not support item assignment\n",
        "\n",
        "print(precios)\n",
        "print(precios[2:4])\n",
        "\n"
      ],
      "execution_count": 44,
      "outputs": [
        {
          "output_type": "stream",
          "text": [
            "49.9\n",
            "(99.9, 49.9, 12.45, 23.3, 55.66, 11.456)\n",
            "(12.45, 23.3)\n"
          ],
          "name": "stdout"
        }
      ]
    },
    {
      "cell_type": "markdown",
      "metadata": {
        "id": "_ME8AjTeTlAu"
      },
      "source": [
        "#Diccionarios\n",
        "\n",
        "- Se declaran con llaves { }\n",
        "- Son mutables\n",
        "- Conjunto de pares llave: valor\n",
        "- Equivalente los Objetos JSON de JavaScript"
      ]
    },
    {
      "cell_type": "code",
      "metadata": {
        "id": "VP18COc_UXFF",
        "outputId": "f3dfe1bc-facd-4d1a-bdc7-3bb4ff684f64",
        "colab": {
          "base_uri": "https://localhost:8080/",
          "height": 139
        }
      },
      "source": [
        "cliente = {  }\n",
        "print(cliente)\n",
        "alumno ={   \"num_cta\" :317162408}\n",
        "print(alumno)\n",
        "\n",
        "alumno ={ \n",
        "          \"num_cta\":317162408 , \n",
        "          \"carrera\" : \"ICO\"  , \n",
        "          \"promedio\" : 9.8 ,\n",
        "          \"materias\" : [\"EED\",\"CyP\",\"Calidad\",\"Emprendimiento\"],\n",
        "          \"direccion\" : {\n",
        "                            \"calle\":\"rancho seco\",\n",
        "                            \"numero\":\"23\",\n",
        "                            \"delegacion\": \"Neza\",\n",
        "                            \"estado\":{\n",
        "                                         \"id\" : 15 ,\n",
        "                                        \"nombre\" : \"Estado de Máxico\" ,\n",
        "                                        \"nombre_corto\" : \"EdoMex\"\n",
        "                                     },\n",
        "                            \"CP\":57170\n",
        "                        }\n",
        "         }\n",
        "print(alumno)\n",
        "print(alumno['materias'])\n",
        "print(alumno['promedio'])\n",
        "print(alumno['direccion']['estado']['nombre_corto'])"
      ],
      "execution_count": 51,
      "outputs": [
        {
          "output_type": "stream",
          "text": [
            "{}\n",
            "{'num_cta': 317162408}\n",
            "{'num_cta': 317162408, 'carrera': 'ICO', 'promedio': 9.8, 'materias': ['EED', 'CyP', 'Calidad', 'Emprendimiento'], 'direccion': {'calle': 'rancho seco', 'numero': '23', 'delegacion': 'Neza', 'estado': {'id': 15, 'nombre': 'Estado de Máxico', 'nombre_corto': 'EdoMex'}, 'CP': 57170}}\n",
            "['EED', 'CyP', 'Calidad', 'Emprendimiento']\n",
            "9.8\n",
            "EdoMex\n"
          ],
          "name": "stdout"
        }
      ]
    }
  ]
}