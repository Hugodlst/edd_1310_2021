{
  "nbformat": 4,
  "nbformat_minor": 0,
  "metadata": {
    "colab": {
      "name": "13Octubre_1310.ipynb",
      "provenance": [],
      "authorship_tag": "ABX9TyPie9SPMgyAJKHlxTPT/Qas",
      "include_colab_link": true
    },
    "kernelspec": {
      "name": "python3",
      "display_name": "Python 3"
    }
  },
  "cells": [
    {
      "cell_type": "markdown",
      "metadata": {
        "id": "view-in-github",
        "colab_type": "text"
      },
      "source": [
        "<a href=\"https://colab.research.google.com/github/Hugodlst/edd_1310_2021/blob/master/13Octubre_1310.ipynb\" target=\"_parent\"><img src=\"https://colab.research.google.com/assets/colab-badge.svg\" alt=\"Open In Colab\"/></a>"
      ]
    },
    {
      "cell_type": "code",
      "metadata": {
        "id": "b_IeRJv6exzY",
        "outputId": "443a29cf-f905-4402-bbd0-2b96c89dcb85",
        "colab": {
          "base_uri": "https://localhost:8080/",
          "height": 105
        }
      },
      "source": [
        "alumno ={ \n",
        "          \"num_cta\":317162408 , \n",
        "          \"carrera\" : \"ICO\"  , \n",
        "          \"promedio\" : 9.8 ,\n",
        "          \"materias\" : [\"EED\",\"CyP\",\"Calidad\",\"Emprendimiento\"],\n",
        "          \"direccion\" : {\n",
        "                            \"calle\":\"rancho seco\",\n",
        "                            \"numero\":\"23\",\n",
        "                            \"delegacion\": \"Neza\",\n",
        "                            \"estado\":{\n",
        "                                         \"id\" : 15 ,\n",
        "                                        \"nombre\" : \"Estado de Máxico\" ,\n",
        "                                        \"nombre_corto\" : \"EdoMex\"\n",
        "                                     },\n",
        "                            \"CP\":57170\n",
        "                        }\n",
        "         }\n",
        "print(alumno)\n",
        "\n",
        "alumno['carrera']=\"Ingenieria en Computación\"\n",
        "print(alumno)\n",
        "alumno['nombre_completo']={'primer' : \"Juan\",\n",
        "                           'segundo':\"Pedro\",\n",
        "                           'materno':\"Perez\",\n",
        "                           'pateno':\"Gómez\",\n",
        "                           }\n",
        "alumno['semestre']=3\n",
        "print(alumno)\n",
        "\n",
        "print(f\"{alumno['nombre_completo']['primer']} {alumno['nombre_completo']['segundo']}\")"
      ],
      "execution_count": 7,
      "outputs": [
        {
          "output_type": "stream",
          "text": [
            "{'num_cta': 317162408, 'carrera': 'ICO', 'promedio': 9.8, 'materias': ['EED', 'CyP', 'Calidad', 'Emprendimiento'], 'direccion': {'calle': 'rancho seco', 'numero': '23', 'delegacion': 'Neza', 'estado': {'id': 15, 'nombre': 'Estado de Máxico', 'nombre_corto': 'EdoMex'}, 'CP': 57170}}\n",
            "{'num_cta': 317162408, 'carrera': 'Ingenieria en Computación', 'promedio': 9.8, 'materias': ['EED', 'CyP', 'Calidad', 'Emprendimiento'], 'direccion': {'calle': 'rancho seco', 'numero': '23', 'delegacion': 'Neza', 'estado': {'id': 15, 'nombre': 'Estado de Máxico', 'nombre_corto': 'EdoMex'}, 'CP': 57170}}\n",
            "{'num_cta': 317162408, 'carrera': 'Ingenieria en Computación', 'promedio': 9.8, 'materias': ['EED', 'CyP', 'Calidad', 'Emprendimiento'], 'direccion': {'calle': 'rancho seco', 'numero': '23', 'delegacion': 'Neza', 'estado': {'id': 15, 'nombre': 'Estado de Máxico', 'nombre_corto': 'EdoMex'}, 'CP': 57170}, 'nombre_completo': {'primer': 'Juan', 'segundo': 'Pedro', 'materno': 'Perez', 'pateno': 'Gómez'}, 'semestre': 3}\n",
            "Juan Pedro\n"
          ],
          "name": "stdout"
        }
      ]
    },
    {
      "cell_type": "code",
      "metadata": {
        "id": "LN-OonV0x_08",
        "outputId": "0a4803ca-30f3-49ed-8229-6cd5f824238c",
        "colab": {
          "base_uri": "https://localhost:8080/",
          "height": 428
        }
      },
      "source": [
        "#keys, values() e items()\n",
        "\n",
        "llaves=alumno.keys()\n",
        "print(llaves)\n",
        "for llave in llaves:\n",
        "  print(llave.upper())\n",
        "\n",
        "valores=alumno.values()\n",
        "for val in valores:\n",
        "  print(val)\n",
        "\n",
        "pares=alumno.items()\n",
        "print(pares)\n",
        "for elem in pares:\n",
        "  print(f\"el campo { elem[0] } tiene valor {elem[1]}\")"
      ],
      "execution_count": 14,
      "outputs": [
        {
          "output_type": "stream",
          "text": [
            "dict_keys(['num_cta', 'carrera', 'promedio', 'materias', 'direccion', 'nombre_completo', 'semestre'])\n",
            "NUM_CTA\n",
            "CARRERA\n",
            "PROMEDIO\n",
            "MATERIAS\n",
            "DIRECCION\n",
            "NOMBRE_COMPLETO\n",
            "SEMESTRE\n",
            "317162408\n",
            "Ingenieria en Computación\n",
            "9.8\n",
            "['EED', 'CyP', 'Calidad', 'Emprendimiento']\n",
            "{'calle': 'rancho seco', 'numero': '23', 'delegacion': 'Neza', 'estado': {'id': 15, 'nombre': 'Estado de Máxico', 'nombre_corto': 'EdoMex'}, 'CP': 57170}\n",
            "{'primer': 'Juan', 'segundo': 'Pedro', 'materno': 'Perez', 'pateno': 'Gómez'}\n",
            "3\n",
            "dict_items([('num_cta', 317162408), ('carrera', 'Ingenieria en Computación'), ('promedio', 9.8), ('materias', ['EED', 'CyP', 'Calidad', 'Emprendimiento']), ('direccion', {'calle': 'rancho seco', 'numero': '23', 'delegacion': 'Neza', 'estado': {'id': 15, 'nombre': 'Estado de Máxico', 'nombre_corto': 'EdoMex'}, 'CP': 57170}), ('nombre_completo', {'primer': 'Juan', 'segundo': 'Pedro', 'materno': 'Perez', 'pateno': 'Gómez'}), ('semestre', 3)])\n",
            "el campo num_cta tiene valor 317162408\n",
            "el campo carrera tiene valor Ingenieria en Computación\n",
            "el campo promedio tiene valor 9.8\n",
            "el campo materias tiene valor ['EED', 'CyP', 'Calidad', 'Emprendimiento']\n",
            "el campo direccion tiene valor {'calle': 'rancho seco', 'numero': '23', 'delegacion': 'Neza', 'estado': {'id': 15, 'nombre': 'Estado de Máxico', 'nombre_corto': 'EdoMex'}, 'CP': 57170}\n",
            "el campo nombre_completo tiene valor {'primer': 'Juan', 'segundo': 'Pedro', 'materno': 'Perez', 'pateno': 'Gómez'}\n",
            "el campo semestre tiene valor 3\n"
          ],
          "name": "stdout"
        }
      ]
    },
    {
      "cell_type": "code",
      "metadata": {
        "id": "FCAUVQG01HAV",
        "outputId": "8a3c79e1-52bd-4b33-adaa-abd70084acc0",
        "colab": {
          "base_uri": "https://localhost:8080/",
          "height": 34
        }
      },
      "source": [
        "computadora={\"procesador\":\"Intel\",\"RAM\":\"Kingston 128 GB\"}\n",
        "otros={\"monitor\":\"LG 49\\\"\",\"hd\":\"Toshiba 1 TB\"}\n",
        "computadora.update(otros) #Sirve para concadenar o anexar los pares de otros diccionarios\n",
        "# computadora += otros marca error  TypeError     \n",
        "print(computadora)"
      ],
      "execution_count": 16,
      "outputs": [
        {
          "output_type": "stream",
          "text": [
            "{'procesador': 'Intel', 'RAM': 'Kingston 128 GB', 'monitor': 'LG 49\"', 'hd': 'Toshiba 1 TB'}\n"
          ],
          "name": "stdout"
        }
      ]
    },
    {
      "cell_type": "markdown",
      "metadata": {
        "id": "_g3nD7Pz2pFp"
      },
      "source": [
        "#Funciones\n",
        "- Son unidades de código reutilizable\n",
        "- Es un mecanismo de organización de código\n",
        "- Una funcion toma 0 a n parametros de entrada\n",
        "- Tiene una salida (return) de cualquier tipo de dato\n",
        "- Solo puede hacer dos cosas\n",
        "-- definirla\n",
        "-- llamarla\n",
        "- Se definen con la palabra reservada 'def'"
      ]
    },
    {
      "cell_type": "code",
      "metadata": {
        "id": "Ir9JPczb37K2",
        "outputId": "6b017787-8716-4acc-dbd2-3bd3b8b66ab5",
        "colab": {
          "base_uri": "https://localhost:8080/",
          "height": 204
        }
      },
      "source": [
        "def sumar(x , y):\n",
        "  resultado = x + y\n",
        "  return resultado\n",
        "\n",
        "def saludar( nombre ):\n",
        "  print(f\"Hola {nombre}, ¿Cómo estas?\")\n",
        "  return None #o sin el return da lo mismo\n",
        "\n",
        "#Procesar None\n",
        "\n",
        "def multiplicar( valor , veces):\n",
        "  if valor !=None:\n",
        "    c=valor*veces\n",
        "  else:\n",
        "    c=\"operación no valida\"\n",
        "  return c\n",
        "\n",
        "\n",
        "def operacion(a, b, c):\n",
        "  res = a + (b / c)\n",
        "  return res\n",
        "\n",
        "\n",
        "print(sumar(10,5))\n",
        "print(sumar(2,5))\n",
        "c=sumar(3,7)\n",
        "print(c)\n",
        "\n",
        "saludar(\"Hugo\")\n",
        "print(saludar('jose'))\n",
        "\n",
        "print(multiplicar(5,6))\n",
        "print(multiplicar(None,6))#Marca error pero se resuelve con if\n",
        "\n",
        "print(operacion(2,9,3))\n",
        "print(operacion(2,3,9)) #Los argumentos son posicionales por que respetan el mismo orden\n",
        "print(operacion(a=2,b=9,c=3))#Se puede hacer ello para desigar el valor de la variable al argumento\n",
        "\n",
        "\n"
      ],
      "execution_count": 28,
      "outputs": [
        {
          "output_type": "stream",
          "text": [
            "15\n",
            "7\n",
            "10\n",
            "Hola Hugo, ¿Cómo estas?\n",
            "Hola jose, ¿Cómo estas?\n",
            "None\n",
            "30\n",
            "operación no valida\n",
            "5.0\n",
            "2.3333333333333335\n",
            "5.0\n"
          ],
          "name": "stdout"
        }
      ]
    },
    {
      "cell_type": "code",
      "metadata": {
        "id": "0Kls_p5D-jNK",
        "outputId": "55926886-5ed2-4cac-a571-e5c92f152f10",
        "colab": {
          "base_uri": "https://localhost:8080/",
          "height": 255
        }
      },
      "source": [
        "#valores por defecto\n",
        "def comanda( primer, fuerte , postre=\"galleta de animalito\" ):\n",
        "  print(f\"De entrada pidio:{ primer }\")\n",
        "  print(f\"De plato fuerte pidio:{ fuerte }\")\n",
        "  print(f\"De postre pidio:{ postre }\")\n",
        "\n",
        "#Argumentos posicionales con tuplas *\n",
        "def comanda_2( *opciones ):\n",
        "  print(f\"De entrada pidio:{ opciones[0] }\")\n",
        "  print(f\"De plato fuerte pidio:{ opciones[1] }\")\n",
        "  print(f\"De postre pidio:{ opciones[2] }\")\n",
        "  print(\"\\nIndicaciones extra:\")\n",
        "  for ind in opciones[3::]:\n",
        "    print(f\"\\t{ind}\")\n",
        "\n",
        "\n",
        "comanda(\"sopa aguada\",\"tortas de papa\",\"gelatina de limon\")\n",
        "comanda(\"sopa aguada\",\"tortas de papa\")\n",
        "comanda_2(\"sopa aguada\",\"tortas de papa\",\"gelatina de limon\",\n",
        "          \"las tortas bien doradas\", \"traer dos limones\", \"Agua con hielo\")\n"
      ],
      "execution_count": 41,
      "outputs": [
        {
          "output_type": "stream",
          "text": [
            "De entrada pidio:sopa aguada\n",
            "De plato fuerte pidio:tortas de papa\n",
            "De postre pidio:gelatina de limon\n",
            "De entrada pidio:sopa aguada\n",
            "De plato fuerte pidio:tortas de papa\n",
            "De postre pidio:galleta de animalito\n",
            "De entrada pidio:sopa aguada\n",
            "De plato fuerte pidio:tortas de papa\n",
            "De postre pidio:gelatina de limon\n",
            "\n",
            "Indicaciones extra:\n",
            "\tlas tortas bien doradas\n",
            "\ttraer dos limones\n",
            "\tAgua con hielo\n"
          ],
          "name": "stdout"
        }
      ]
    },
    {
      "cell_type": "code",
      "metadata": {
        "id": "761D58DXB8In",
        "outputId": "3106b8cf-0bfa-4b3a-866f-e126e8c7038d",
        "colab": {
          "base_uri": "https://localhost:8080/",
          "height": 156
        }
      },
      "source": [
        "#argumentos posicionales con diccionarios **\n",
        "def comanda_3( **opciones):\n",
        "  print(opciones)\n",
        "  for op in opciones.items():\n",
        "    print(f\"{op[0]} -> {op[1]}\")\n",
        "\n",
        "comanda_3(primer=\"sopa aguada\",fuerte=\"tortas de papa\",postre=\"gelatina de limon\",\n",
        "          extra1=\"las tortas bien doradas\", extra2=\"traer dos limones\", extra3=\"Agua con hielo\")\n",
        "\n"
      ],
      "execution_count": 44,
      "outputs": [
        {
          "output_type": "stream",
          "text": [
            "{'primer': 'sopa aguada', 'fuerte': 'tortas de papa', 'postre': 'gelatina de limon', 'extra1': 'las tortas bien doradas', 'extra2': 'traer dos limones', 'extra3': 'Agua con hielo'}\n",
            "primer -> sopa aguada\n",
            "fuerte -> tortas de papa\n",
            "postre -> gelatina de limon\n",
            "extra1 -> las tortas bien doradas\n",
            "extra2 -> traer dos limones\n",
            "extra3 -> Agua con hielo\n"
          ],
          "name": "stdout"
        }
      ]
    }
  ]
}