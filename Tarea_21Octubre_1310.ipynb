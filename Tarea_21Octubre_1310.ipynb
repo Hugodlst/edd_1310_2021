{
  "nbformat": 4,
  "nbformat_minor": 0,
  "metadata": {
    "colab": {
      "name": "Tarea_21Octubre_1310.ipynb",
      "provenance": [],
      "authorship_tag": "ABX9TyMOwEgrKHw6lMBErkgbjZZp",
      "include_colab_link": true
    },
    "kernelspec": {
      "name": "python3",
      "display_name": "Python 3"
    }
  },
  "cells": [
    {
      "cell_type": "markdown",
      "metadata": {
        "id": "view-in-github",
        "colab_type": "text"
      },
      "source": [
        "<a href=\"https://colab.research.google.com/github/Hugodlst/edd_1310_2021/blob/master/Tarea_21Octubre_1310.ipynb\" target=\"_parent\"><img src=\"https://colab.research.google.com/assets/colab-badge.svg\" alt=\"Open In Colab\"/></a>"
      ]
    },
    {
      "cell_type": "code",
      "metadata": {
        "id": "SvxhoHdGzpKn",
        "outputId": "9c4e8051-1ca3-4380-a6cf-b90a2937d26c",
        "colab": {
          "base_uri": "https://localhost:8080/",
          "height": 51
        }
      },
      "source": [
        "#Persona\n",
        "\n",
        "class persona:\n",
        "  def __init__(self, n, e, h, d, c):\n",
        "    self.__nombre=n #ATRIBUTOS\n",
        "    self.__edad=e\n",
        "    self.__estatura=h\n",
        "    self.__dormir=d\n",
        "    self.__comer=c\n",
        "\n",
        "  def dormir(self): #MÉTODOS\n",
        "    return \"Nombre: \" + self.__nombre + \", \" + \"Edad: \"+ self.__edad + \", \" + \"Estatura: \" + self.__estatura + \", \" + \"Y se va a dormir a las...\" + self.__dormir\n",
        "\n",
        "  def comer(self):\n",
        "    return \"Nombre: \" + self.__nombre + \", \" + \"Edad: \"+ self.__edad + \", \" + \"Estatura: \" + self.__estatura + \", \" + \"Y hoy va a comer\" + self.__comer\n",
        "\n",
        "comida=persona(\"Hugo\", \"21 años\", \"1.60 m\", \"12:50 pm\", \"taquitos al pastor\")\n",
        "descanso=persona(\"Enrique\", \"34 años\", \"1.89 m\", \"8:30 pm\", \"gorditas cerca de la FES Aragón\")\n",
        "#print(comer)\n",
        "#print(datos.to_string())\n",
        "print(comida.comer())\n",
        "print(descanso.dormir())"
      ],
      "execution_count": 42,
      "outputs": [
        {
          "output_type": "stream",
          "text": [
            "Nombre: Hugo Edad: 21 años Estatura: 1.60 m Y hoy va a comertaquitos al pastor\n",
            "Nombre: Enrique, Edad: 34 años, Estatura: 1.89 m, Y se va a dormir a las...8:30 pm\n"
          ],
          "name": "stdout"
        }
      ]
    },
    {
      "cell_type": "code",
      "metadata": {
        "id": "5lE3JOYKpfgl",
        "outputId": "c5dc2046-8b50-40c4-baa8-84762e98e2b1",
        "colab": {
          "base_uri": "https://localhost:8080/",
          "height": 51
        }
      },
      "source": [
        "#Celular\n",
        "\n",
        "class Celular:\n",
        "    def __init__(self, m, mo, sm, call, alarm):\n",
        "        self.__marca=m\n",
        "        self.__modelo=mo\n",
        "        self.__espaciomemoria=sm\n",
        "        self.__llamada=call\n",
        "        self.__alarma=alarm\n",
        "    \n",
        "    def llamar(self):\n",
        "        return \"Marca: \" + self.__marca + \", \" + \"modelo: \" + self.__modelo + \", \" + \"llamar al \" +  self.__llamada\n",
        "    \n",
        "    def alarma(self):\n",
        "        return \"Marca: \" + self.__marca + \", \" + \"modelo: \" + self.__modelo + \", \" + \"alarma puesta a las... \" +  self.__alarma\n",
        "\n",
        "celular=Celular(\"LG\",\"G8 ThinQ\",\"1 TB\",\"5539502465\",\"5:00 am\")\n",
        "\n",
        "print(celular.llamar())\n",
        "print(celular.alarma())\n"
      ],
      "execution_count": 40,
      "outputs": [
        {
          "output_type": "stream",
          "text": [
            "Marca: LG, modelo: G8 ThinQ, llamar al 5539502465\n",
            "Marca: LG, modelo: G8 ThinQ, alarma puesta a las... 5:00 am\n"
          ],
          "name": "stdout"
        }
      ]
    }
  ]
}