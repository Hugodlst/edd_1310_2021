{
  "nbformat": 4,
  "nbformat_minor": 0,
  "metadata": {
    "colab": {
      "name": "20Octubre_1310.ipynb",
      "provenance": [],
      "toc_visible": true,
      "authorship_tag": "ABX9TyMN0EcZs3WclUPdMx3IckCq",
      "include_colab_link": true
    },
    "kernelspec": {
      "name": "python3",
      "display_name": "Python 3"
    }
  },
  "cells": [
    {
      "cell_type": "markdown",
      "metadata": {
        "id": "view-in-github",
        "colab_type": "text"
      },
      "source": [
        "<a href=\"https://colab.research.google.com/github/Hugodlst/edd_1310_2021/blob/master/20Octubre_1310.ipynb\" target=\"_parent\"><img src=\"https://colab.research.google.com/assets/colab-badge.svg\" alt=\"Open In Colab\"/></a>"
      ]
    },
    {
      "cell_type": "code",
      "metadata": {
        "id": "4vgUtuQwwJJ4",
        "outputId": "24819f00-8a43-47ec-e457-da7a9f00e2a9",
        "colab": {
          "base_uri": "https://localhost:8080/",
          "height": 255
        }
      },
      "source": [
        "archivo=open('numeros.txt','rt')\n",
        "for linea in archivo.readlines():\n",
        "  for trunc in linea.split(','):\n",
        "    print(int(trunc.strip()))"
      ],
      "execution_count": 9,
      "outputs": [
        {
          "output_type": "stream",
          "text": [
            "22\n",
            "34\n",
            "56\n",
            "67\n",
            "23\n",
            "45\n",
            "65\n",
            "12\n",
            "5\n",
            "6\n",
            "4\n",
            "5\n",
            "67\n",
            "98\n"
          ],
          "name": "stdout"
        }
      ]
    },
    {
      "cell_type": "markdown",
      "metadata": {
        "id": "bbjnn1an2pkl"
      },
      "source": [
        "# Sintaxis de for en Pyton\n",
        "\n",
        "dos versiones de for\n",
        "1. range\n",
        "2. in iterator"
      ]
    },
    {
      "cell_type": "code",
      "metadata": {
        "id": "nic6eVxM3AXI",
        "outputId": "25294b93-3184-4f1a-8e3a-c22d1a4bfe80",
        "colab": {
          "base_uri": "https://localhost:8080/",
          "height": 170
        }
      },
      "source": [
        "r = (range(0,10,2))\n",
        "for x in r:\n",
        "  print(x)\n",
        "\n",
        "colores=['rojo', 'rosa', 'azul', 'naranja']\n",
        "\n",
        "#Coviene para modificar el elemento\n",
        "for indice in range(0,4,1): #for(indice=0;indice<4;indice++) len sirvee para saber cuantos elementos es la lista\n",
        "  #print(indice)\n",
        "  colores[indice]=colores[indice].upper()\n",
        "\n",
        "\n",
        "#for sobre un iterador\n",
        "for col in colores: #conviene para mostrar toda la lista\n",
        "  print(col)"
      ],
      "execution_count": 15,
      "outputs": [
        {
          "output_type": "stream",
          "text": [
            "0\n",
            "2\n",
            "4\n",
            "6\n",
            "8\n",
            "ROJO\n",
            "ROSA\n",
            "AZUL\n",
            "NARANJA\n"
          ],
          "name": "stdout"
        }
      ]
    },
    {
      "cell_type": "markdown",
      "metadata": {
        "id": "h8S5nG8t8GhV"
      },
      "source": [
        "#Generadores\n",
        "[valor for x in range(10) ]\n",
        "[\"hola\" for x in range(10)]\n",
        "´\n",
        "[[0,0,0]\n",
        "[0,0,0]\n",
        "[0,0,0]] matriz de 3x3"
      ]
    },
    {
      "cell_type": "code",
      "metadata": {
        "id": "pZCJWpXD8fzg",
        "outputId": "2b6eb4d8-78d8-4be3-876b-2822a42f9a05",
        "colab": {
          "base_uri": "https://localhost:8080/",
          "height": 34
        }
      },
      "source": [
        "lista=[[0,0,0] for x in range(3)]\n",
        "print(lista)\n"
      ],
      "execution_count": 22,
      "outputs": [
        {
          "output_type": "stream",
          "text": [
            "[[0, 0, 0], [0, 0, 0], [0, 0, 0]]\n"
          ],
          "name": "stdout"
        }
      ]
    },
    {
      "cell_type": "code",
      "metadata": {
        "id": "VEQABGdb-KVo",
        "outputId": "00641f7f-9085-46c1-952d-1dead46b3bd0",
        "colab": {
          "base_uri": "https://localhost:8080/",
          "height": 34
        }
      },
      "source": [
        "ren=6\n",
        "col=3\n",
        "lista= [[0 for x in range(col)] for x in range(ren)]\n",
        "print(lista)"
      ],
      "execution_count": 25,
      "outputs": [
        {
          "output_type": "stream",
          "text": [
            "[[0, 0, 0], [0, 0, 0], [0, 0, 0], [0, 0, 0], [0, 0, 0], [0, 0, 0]]\n"
          ],
          "name": "stdout"
        }
      ]
    },
    {
      "cell_type": "markdown",
      "metadata": {
        "id": "xcRzWMGe_Gq6"
      },
      "source": [
        "#POO en Python\n",
        "- clase\n",
        "- creacion de objetos\n",
        "- constructor\n",
        "- encapsulamiento\n",
        "- metodos\n",
        "- atributos\n",
        "- herencia\n"
      ]
    },
    {
      "cell_type": "code",
      "metadata": {
        "id": "Tlv8lDlM_d-6",
        "outputId": "a43b6848-0965-403e-ee5c-097f68cc6b36",
        "colab": {
          "base_uri": "https://localhost:8080/",
          "height": 34
        }
      },
      "source": [
        "#clase\n",
        "#class + nombre de la clase + :\n",
        "class computadora:\n",
        "  def __init__(self , m , p): #Es un ajuste para la simulacion en POO, se debe llevar dos guiones bajo\n",
        "    self.__marca=m #Dos guiones bajos hace el atributo privado\n",
        "    self.__procesador=p\n",
        "\n",
        "  def to_string(self):\n",
        "    return \"Marca:\"+self.__marca+ \"Procesador:\"+self.__procesador\n",
        "\n",
        "\n",
        "mi_pc = computadora(\"Toshiba\",\"Intel i7\")\n",
        "mi_pc.__marca=\"HP\"\n",
        "print(mi_pc.to_string())\n",
        "\n"
      ],
      "execution_count": 33,
      "outputs": [
        {
          "output_type": "stream",
          "text": [
            "Marca:ToshibaProcesador:Intel i7\n"
          ],
          "name": "stdout"
        }
      ]
    }
  ]
}