{
  "nbformat": 4,
  "nbformat_minor": 0,
  "metadata": {
    "colab": {
      "name": "6Octubre_1310.ipynb",
      "provenance": [],
      "authorship_tag": "ABX9TyOetxJDc8qx8oIywpRtEmoz",
      "include_colab_link": true
    },
    "kernelspec": {
      "name": "python3",
      "display_name": "Python 3"
    }
  },
  "cells": [
    {
      "cell_type": "markdown",
      "metadata": {
        "id": "view-in-github",
        "colab_type": "text"
      },
      "source": [
        "<a href=\"https://colab.research.google.com/github/Hugodlst/edd_1310_2021/blob/master/6Octubre_1310.ipynb\" target=\"_parent\"><img src=\"https://colab.research.google.com/assets/colab-badge.svg\" alt=\"Open In Colab\"/></a>"
      ]
    },
    {
      "cell_type": "code",
      "metadata": {
        "id": "ACN4q_3ppJVJ",
        "outputId": "cbd7ad1e-35b0-445a-98a0-c61d610d84ca",
        "colab": {
          "base_uri": "https://localhost:8080/",
          "height": 340
        }
      },
      "source": [
        "#String continuacion...\n",
        "\n",
        "numeros_txt=\"   1, 2, 4, 7 , 5   , 35    , 15  , 12\"\n",
        "print(numeros_txt)\n",
        "numeros_txt=numeros_txt.lstrip().split(',')\n",
        "print(numeros_txt)\n",
        "\n",
        "for j in range(len(numeros_txt)):\n",
        "  numeros_txt[ j ] = int(numeros_txt[j].strip())\n",
        "\n",
        "print(numeros_txt)\n",
        "\n",
        "\n",
        "#funcion range\n",
        "#range(inicio, stop, incremento )\n",
        "\n",
        "print(range(1,10,2))\n",
        "rango=range(1,10,2)\n",
        "\n",
        "for x in rango:\n",
        "  print(x)\n",
        "\n",
        "rango = range(10)\n",
        "for x in rango:\n",
        "  print(x)\n",
        "\n"
      ],
      "execution_count": 18,
      "outputs": [
        {
          "output_type": "stream",
          "text": [
            "   1, 2, 4, 7 , 5   , 35    , 15  , 12\n",
            "['1', ' 2', ' 4', ' 7 ', ' 5   ', ' 35    ', ' 15  ', ' 12']\n",
            "[1, 2, 4, 7, 5, 35, 15, 12]\n",
            "range(1, 10, 2)\n",
            "1\n",
            "3\n",
            "5\n",
            "7\n",
            "9\n",
            "0\n",
            "1\n",
            "2\n",
            "3\n",
            "4\n",
            "5\n",
            "6\n",
            "7\n",
            "8\n",
            "9\n"
          ],
          "name": "stdout"
        }
      ]
    },
    {
      "cell_type": "markdown",
      "metadata": {
        "id": "0E3g7aKNxFav"
      },
      "source": [
        "#Listas\n",
        "\n",
        "- mutables\n",
        "- se declaran con [ ]\n",
        "- selector [ int ]\n",
        "- pueden ser de cualquier tipo o mezclado\n",
        "\n",
        "#Tuplas\n",
        "\n",
        "- NO mutables\n",
        "- Se declaran con ( )\n",
        "- Selectos [ int ]\n",
        "\n",
        "#Diccionarios\n",
        "\n",
        "- Son mutables\n",
        "- Son conjunto de pares llave:valor\n",
        "- Equivalentes a los Objetos JSON de JavaScrip\n",
        "\n",
        "#Conjuntos\n",
        "\n",
        "- Representacion de la teoria de conjuntos"
      ]
    },
    {
      "cell_type": "code",
      "metadata": {
        "id": "tAacTB2cyOKy",
        "outputId": "e2726173-6ca9-4cde-c8a6-ba87f2d7787b",
        "colab": {
          "base_uri": "https://localhost:8080/",
          "height": 153
        }
      },
      "source": [
        "#Listas\n",
        "frutas=[\"Pera\", \"Manzana\", \"Sandia\", \"Kiwi\", \"Naranja\", \"fresa\"]\n",
        "print(frutas)\n",
        "cosas=[\"cuaderno\", 2 , 3.1416 , True , False , [\"Rojo\",\"Azul\"] ]\n",
        "print(cosas)\n",
        "frutas[5]=\"Fresa\" #frutas[2] = frutas[5].capitalize()\n",
        "print(frutas)\n",
        "\n",
        "#Agregar a la lista\n",
        "frutas.append(\"Aguacate\") #append agrega al final de la lista alguna palabra\n",
        "print(frutas)\n",
        "\n",
        "frutas.insert(3, \"Zarzamora\") #inserta la pabra dspues de la señalada\n",
        "print(frutas)\n",
        "\n",
        "fecha=[\"06\", \"10\",\"2020\"] #06/10/2020 con la funcion \"/\"join\n",
        "fecha1=[\"06\", \"10\",\"2020\"]\n",
        "print(fecha)\n",
        "fecha_str=\"/\".join(fecha)\n",
        "fecha1_str=\"-\".join(fecha1)\n",
        "print(fecha_str)\n",
        "print(fecha1_str)\n"
      ],
      "execution_count": 37,
      "outputs": [
        {
          "output_type": "stream",
          "text": [
            "['Pera', 'Manzana', 'Sandia', 'Kiwi', 'Naranja', 'fresa']\n",
            "['cuaderno', 2, 3.1416, True, False, ['Rojo', 'Azul']]\n",
            "['Pera', 'Manzana', 'Sandia', 'Kiwi', 'Naranja', 'Fresa']\n",
            "['Pera', 'Manzana', 'Sandia', 'Kiwi', 'Naranja', 'Fresa', 'Aguacate']\n",
            "['Pera', 'Manzana', 'Sandia', 'Zarzamora', 'Kiwi', 'Naranja', 'Fresa', 'Aguacate']\n",
            "['06', '10', '2020']\n",
            "06/10/2020\n",
            "06-10-2020\n"
          ],
          "name": "stdout"
        }
      ]
    },
    {
      "cell_type": "code",
      "metadata": {
        "id": "mn1GU1Ll3TQ6",
        "outputId": "d904575d-acb8-4b2a-a073-29fd738e689c",
        "colab": {
          "base_uri": "https://localhost:8080/",
          "height": 170
        }
      },
      "source": [
        "#Eleminar elementos\n",
        "\n",
        "cosas=[\"cuaderno\", 2 , 3.1416 , True , False , [\"Rojo\",\"Azul\"] ]\n",
        "print(cosas)\n",
        "cosas.append(\"Libro\")\n",
        "cosas.append(\"Lapiz\")\n",
        "print(cosas)\n",
        "algo=cosas.pop()\n",
        "print(cosas)\n",
        "\n",
        "algo=cosas.pop(2)\n",
        "print(cosas)\n",
        "print(algo)\n",
        "\n",
        "cosas.remove(2)\n",
        "print(cosas)\n",
        "\n",
        "#vaciar lista\n",
        "cosas.clear()\n",
        "print(cosas)\n",
        "\n",
        "#ordenar listas\n",
        "print(frutas)\n",
        "frutas.sort()\n",
        "print(frutas)\n",
        "\n"
      ],
      "execution_count": 51,
      "outputs": [
        {
          "output_type": "stream",
          "text": [
            "['cuaderno', 2, 3.1416, True, False, ['Rojo', 'Azul']]\n",
            "['cuaderno', 2, 3.1416, True, False, ['Rojo', 'Azul'], 'Libro', 'Lapiz']\n",
            "['cuaderno', 2, 3.1416, True, False, ['Rojo', 'Azul'], 'Libro']\n",
            "['cuaderno', 2, True, False, ['Rojo', 'Azul'], 'Libro']\n",
            "3.1416\n",
            "['cuaderno', True, False, ['Rojo', 'Azul'], 'Libro']\n",
            "[]\n",
            "['Aguacate', 'Fresa', 'Kiwi', 'Manzana', 'Naranja', 'Pera', 'Sandia', 'Zarzamora']\n",
            "['Aguacate', 'Fresa', 'Kiwi', 'Manzana', 'Naranja', 'Pera', 'Sandia', 'Zarzamora']\n"
          ],
          "name": "stdout"
        }
      ]
    },
    {
      "cell_type": "code",
      "metadata": {
        "id": "1b3lisrR7GmG",
        "outputId": "a244cf94-30d6-4792-fa73-82c5b3eff461",
        "colab": {
          "base_uri": "https://localhost:8080/",
          "height": 153
        }
      },
      "source": [
        "#slicing\n",
        "\n",
        "cosas=[\"cuaderno\", 2 , 3.1416 , True , False , [\"Rojo\",\"Azul\"] ]\n",
        "print(cosas[3:5:1])\n",
        "print(cosas)\n",
        "print(cosas[0][3:5:1])\n",
        "\n",
        "numeros=[1,2,3,4,5,6,7,8,9,10,11,12,13,14,15]\n",
        "print(numeros[7:12:1])\n",
        "\n",
        "#Susttuir rebanadas\n",
        "\n",
        "print(numeros)\n",
        "numeros[8:13:]=[-2,-2]\n",
        "print(numeros)\n",
        "\n",
        "#Preguntar por existencia\n",
        "print(-2 in numeros)\n",
        "print(120 in numeros)"
      ],
      "execution_count": 63,
      "outputs": [
        {
          "output_type": "stream",
          "text": [
            "[True, False]\n",
            "['cuaderno', 2, 3.1416, True, False, ['Rojo', 'Azul']]\n",
            "de\n",
            "[8, 9, 10, 11, 12]\n",
            "[1, 2, 3, 4, 5, 6, 7, 8, 9, 10, 11, 12, 13, 14, 15]\n",
            "[1, 2, 3, 4, 5, 6, 7, 8, -2, -2, 14, 15]\n",
            "True\n",
            "False\n"
          ],
          "name": "stdout"
        }
      ]
    },
    {
      "cell_type": "markdown",
      "metadata": {
        "id": "ufqGEcHg-jQD"
      },
      "source": [
        "#Listas Multidimensión\n",
        "\n",
        "Listas dentro de listas\n",
        "\n"
      ]
    },
    {
      "cell_type": "code",
      "metadata": {
        "id": "mW0gcygJ-ruS",
        "outputId": "961f0c0f-59a0-49f6-b8fa-19373dfc3427",
        "colab": {
          "base_uri": "https://localhost:8080/",
          "height": 170
        }
      },
      "source": [
        "computadoras=[\"hp\",\"Lenovo Legion\",\"Mac Book Pro 17\", \"LG Gram\"] #El espacio entre las palabras si cuenta\n",
        "oss=[\"Windows 10\", \"Linux\", \"Android\", \"iOS\"]\n",
        "\n",
        "computo=[computadoras, oss]\n",
        "print(computo[0])\n",
        "print(computo[1])\n",
        "\n",
        "print(computo[0][2])\n",
        "print(computo[0][2][0:15])\n",
        "print(computo[0][3][6: :-1])\n",
        "print(\"Linux\" in computo[1])\n",
        "\n",
        "dbms=[ [\"Mysql\", \"Open Source\", False],[\"MS SQL Server\", \"de paga\", True] ]\n",
        "computo.append(dbms)\n",
        "print(computo)\n",
        "print(computo[2][0][0])\n",
        "print(computo[2][1][0:16:1]) #Una pregunta... en si que indica eso, por que me imprime toda la ultima lista???\n",
        "#Gracias por los comentarios"
      ],
      "execution_count": 82,
      "outputs": [
        {
          "output_type": "stream",
          "text": [
            "['hp', 'Lenovo Legion', 'Mac Book Pro 17', 'LG Gram']\n",
            "['Windows 10', 'Linux', 'Android', 'iOS']\n",
            "Mac Book Pro 17\n",
            "Mac Book Pro 17\n",
            "marG GL\n",
            "True\n",
            "[['hp', 'Lenovo Legion', 'Mac Book Pro 17', 'LG Gram'], ['Windows 10', 'Linux', 'Android', 'iOS'], [['Mysql', 'Open Source', False], ['MS SQL Server', 'de paga', True]]]\n",
            "Mysql\n",
            "['MS SQL Server', 'de paga', True]\n"
          ],
          "name": "stdout"
        }
      ]
    }
  ]
}