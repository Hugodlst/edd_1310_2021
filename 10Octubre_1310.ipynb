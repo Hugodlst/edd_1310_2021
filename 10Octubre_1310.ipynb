{
  "nbformat": 4,
  "nbformat_minor": 0,
  "metadata": {
    "colab": {
      "name": "10Octubre_1310.ipynb",
      "provenance": [],
      "authorship_tag": "ABX9TyNyRTRQZ340lVekIB+L9oA4",
      "include_colab_link": true
    },
    "kernelspec": {
      "name": "python3",
      "display_name": "Python 3"
    }
  },
  "cells": [
    {
      "cell_type": "markdown",
      "metadata": {
        "id": "view-in-github",
        "colab_type": "text"
      },
      "source": [
        "<a href=\"https://colab.research.google.com/github/Hugodlst/edd_1310_2021/blob/master/10Octubre_1310.ipynb\" target=\"_parent\"><img src=\"https://colab.research.google.com/assets/colab-badge.svg\" alt=\"Open In Colab\"/></a>"
      ]
    },
    {
      "cell_type": "code",
      "metadata": {
        "id": "wBOLN0nWNJLh",
        "outputId": "e4d0ecb6-4c26-4b0d-ebfe-0412dec3307c",
        "colab": {
          "base_uri": "https://localhost:8080/"
        }
      },
      "source": [
        "class Nodo:\n",
        "    def __init__( self, dato):\n",
        "        self.__dato=dato\n",
        "        self.__siguiente=None\n",
        "\n",
        "    def get_dato(self):\n",
        "        return self.__dato\n",
        "\n",
        "    def set_dato(self,d):\n",
        "        self.__dato=d\n",
        "    \n",
        "    def get_siguiente(self):\n",
        "        return self.__siguiente\n",
        "    \n",
        "    def set_siguiente(self,d):\n",
        "        self.__siguiente=d\n",
        "    \n",
        "    def show(self):\n",
        "        curr_node=self #head\n",
        "        print(\"Inicio de la estructura Ligada: \")\n",
        "        print(\"I\" + str(curr_node.get_dato())+\" -->\", end =\"\") #Se imprime el valor de curr_node\n",
        "        while(curr_node.get_siguiente() !=None): #Pregunta si curr_node es igual o diefrente de none\n",
        "            curr_node=curr_node.get_siguiente()\n",
        "            print(\"I\" + str(curr_node.get_dato())+\"I -->\", end =\"\")\n",
        "        print(\"\\nFin\")\n",
        "    \n",
        "#Ejemplo 1\n",
        "a=Nodo(10)\n",
        "\n",
        "\n",
        "#Ejemplo 2\n",
        "a.set_siguiente(Nodo(20))\n",
        "a.show()\n",
        "\n",
        "\n",
        "#Ejemplo 3\n",
        "a.get_siguiente().set_siguiente(Nodo(30))\n",
        "a.show()\n",
        "\n",
        "\n",
        "#Ejemplo 4\n",
        "a.get_siguiente().get_siguiente().set_siguiente(Nodo(40))\n",
        "a.show()\n",
        "\n",
        "\n",
        "#Ejemplo 5\n",
        "a.get_siguiente().get_siguiente().get_siguiente().set_siguiente(Nodo(50))\n",
        "a.show()\n",
        "\n",
        "\n",
        "#Cmbiando valores\n",
        "#Para cambiar el valor principal (Ejemplo 6)\n",
        "a.set_dato(12)\n",
        "a.show()\n",
        "\n",
        "\n",
        "#Ejemplo 7: Cambiar a otro numero\n",
        "a.get_siguiente().get_siguiente().get_siguiente().set_dato(46)\n",
        "a.show()\n",
        "\n",
        "\n",
        "#Ejemplo 8 (20 por 25)\n",
        "a.get_siguiente().set_dato(25)\n",
        "a.show()\n",
        "\n",
        "\n",
        "#Ejemplo 9 (Eliminar un nodo)\n",
        "a.get_siguiente().get_siguiente().get_siguiente().set_siguiente(None)\n",
        "a.show()\n",
        "\n",
        "\n"
      ],
      "execution_count": null,
      "outputs": [
        {
          "output_type": "stream",
          "text": [
            "Inicio de la estructura Ligada: \n",
            "I10 -->I20I -->\n",
            "Fin\n",
            "Inicio de la estructura Ligada: \n",
            "I10 -->I20I -->I30I -->\n",
            "Fin\n",
            "Inicio de la estructura Ligada: \n",
            "I10 -->I20I -->I30I -->I40I -->\n",
            "Fin\n",
            "Inicio de la estructura Ligada: \n",
            "I10 -->I20I -->I30I -->I40I -->I50I -->\n",
            "Fin\n",
            "Inicio de la estructura Ligada: \n",
            "I12 -->I20I -->I30I -->I40I -->I50I -->\n",
            "Fin\n",
            "Inicio de la estructura Ligada: \n",
            "I12 -->I20I -->I30I -->I46I -->I50I -->\n",
            "Fin\n",
            "Inicio de la estructura Ligada: \n",
            "I12 -->I25I -->I30I -->I46I -->I50I -->\n",
            "Fin\n",
            "Inicio de la estructura Ligada: \n",
            "I12 -->I25I -->I30I -->I46I -->\n",
            "Fin\n"
          ],
          "name": "stdout"
        }
      ]
    },
    {
      "cell_type": "code",
      "metadata": {
        "id": "8mL9rO7LdQL8",
        "outputId": "64ee4ed0-595b-4078-e030-eadfedcbad84",
        "colab": {
          "base_uri": "https://localhost:8080/",
          "height": 248
        }
      },
      "source": [
        "class Nodo:\n",
        "    def __init__( self, dato):\n",
        "        self.dato=dato\n",
        "        self.siguiente=None\n",
        "\n",
        "#Ejemplo 1\n",
        "a=Nodo(10)\n",
        "print(a.dato)\n",
        "print(a.siguiente)\n",
        "\n",
        "#Ejemplo 2:\n",
        "a.siguiente=Nodo(20)\n",
        "print(a.siguiente.dato)\n",
        "\n",
        "#Corrido transversal\n",
        "curr_nodo=a\n",
        "print(curr_nodo.dato , \"-->\" , end=\"\")\n",
        "    curr_nodoe=curr_nodo.siguiente\n",
        "    print(curr...)\n",
        "\n",
        "    #Hasta ahi me quede lo siento :\"("
      ],
      "execution_count": null,
      "outputs": [
        {
          "output_type": "stream",
          "text": [
            "10\n",
            "None\n",
            "20\n"
          ],
          "name": "stdout"
        },
        {
          "output_type": "error",
          "ename": "NameError",
          "evalue": "ignored",
          "traceback": [
            "\u001b[0;31m---------------------------------------------------------------------------\u001b[0m",
            "\u001b[0;31mNameError\u001b[0m                                 Traceback (most recent call last)",
            "\u001b[0;32m<ipython-input-26-df1a5e25220a>\u001b[0m in \u001b[0;36m<module>\u001b[0;34m()\u001b[0m\n\u001b[1;32m     15\u001b[0m \u001b[0;31m#Corrido transversal\u001b[0m\u001b[0;34m\u001b[0m\u001b[0;34m\u001b[0m\u001b[0;34m\u001b[0m\u001b[0m\n\u001b[1;32m     16\u001b[0m \u001b[0mcurr_nodo\u001b[0m\u001b[0;34m=\u001b[0m\u001b[0ma\u001b[0m\u001b[0;34m\u001b[0m\u001b[0;34m\u001b[0m\u001b[0m\n\u001b[0;32m---> 17\u001b[0;31m \u001b[0mprint\u001b[0m\u001b[0;34m(\u001b[0m\u001b[0mcurr_nodo\u001b[0m\u001b[0;34m.\u001b[0m\u001b[0mdato\u001b[0m \u001b[0;34m,\u001b[0m \u001b[0;34m\"-->\"\u001b[0m \u001b[0;34m,\u001b[0m \u001b[0mend\u001b[0m\u001b[0;34m)\u001b[0m\u001b[0;34m\u001b[0m\u001b[0;34m\u001b[0m\u001b[0m\n\u001b[0m",
            "\u001b[0;31mNameError\u001b[0m: name 'end' is not defined"
          ]
        }
      ]
    }
  ]
}